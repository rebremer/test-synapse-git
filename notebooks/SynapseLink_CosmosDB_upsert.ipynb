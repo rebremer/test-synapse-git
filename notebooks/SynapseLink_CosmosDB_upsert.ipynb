{
  "cells": [
    {
      "cell_type": "code",
      "source": [
        "# 0.  Initialization  \r\n",
        "# \r\n",
        "# 0.1. Create Cosmos DB container using the RetailDemo, see https://docs.microsoft.com/en-us/azure/cosmos-db/create-notebook-visualize-data\r\n",
        "# 0.2. Configure Synapse Line to Cosmos DB, see  https://docs.microsoft.com/en-us/azure/cosmos-db/configure-synapse-link\r\n",
        "# 0.3. Add cards.txt set to Storage account adhering to Azure Synapse Analytics\r\n",
        "# 0.4. Add requirement.txt with azure-cosmos library to Spark pool (this is needed in last cell when data is upserted to Cosmos DB)"
      ],
      "outputs": [
        {
          "output_type": "display_data",
          "data": {
            "application/vnd.livy.statement-meta+json": {
              "spark_pool": "amlsparklibv4",
              "session_id": 17,
              "statement_id": 1,
              "state": "finished",
              "livy_statement_state": "available",
              "queued_time": "2021-06-30T18:21:37.0535625Z",
              "session_start_time": "2021-06-30T18:21:37.1055661Z",
              "execution_start_time": "2021-06-30T18:23:49.8288397Z",
              "execution_finish_time": "2021-06-30T18:23:51.8893613Z"
            },
            "text/plain": "StatementMeta(amlsparklibv4, 17, 1, Finished, Available)"
          },
          "metadata": {}
        },
        {
          "output_type": "stream",
          "name": "stdout",
          "text": []
        }
      ],
      "execution_count": 1,
      "metadata": {
        "collapsed": true,
        "jupyter": {
          "source_hidden": false,
          "outputs_hidden": false
        },
        "nteract": {
          "transient": {
            "deleting": false
          }
        }
      }
    },
    {
      "cell_type": "code",
      "source": [
        "# 1. Create Dataframe from Cosmos DB analytics store HTAP. \n",
        "#\n",
        "# Notice that Spark uses lazy execution and command is only executed when display command. In a production scenario, display is not needed and the data is only fetched using the join\n",
        "# \n",
        "# Read from Cosmos DB analytical store into a Spark DataFrame and display 10 rows from the DataFrame\n",
        "# To select a preferred list of regions in a multi-region Cosmos DB account, add .option(\"spark.cosmos.preferredRegions\", \"<Region1>,<Region2>\")\n",
        "\n",
        "dfcosmosdb = spark.read\\\n",
        "    .format(\"cosmos.olap\")\\\n",
        "    .option(\"spark.synapse.linkedService\", \"CosmosDbHTAP\")\\\n",
        "    .option(\"spark.cosmos.container\", \"WebsiteData3\")\\\n",
        "    .load()\n",
        "\n",
        "display(dfcosmosdb.limit(10))"
      ],
      "outputs": [
        {
          "output_type": "display_data",
          "data": {
            "application/vnd.livy.statement-meta+json": {
              "spark_pool": "amlsparklibv4",
              "session_id": 17,
              "statement_id": 2,
              "state": "finished",
              "livy_statement_state": "available",
              "queued_time": "2021-06-30T18:25:34.6622536Z",
              "session_start_time": null,
              "execution_start_time": "2021-06-30T18:25:34.7766763Z",
              "execution_finish_time": "2021-06-30T18:25:53.3001238Z"
            },
            "text/plain": "StatementMeta(amlsparklibv4, 17, 2, Finished, Available)"
          },
          "metadata": {}
        },
        {
          "output_type": "display_data",
          "data": {
            "application/vnd.synapse.widget-view+json": {
              "widget_id": "4ce5132d-e578-458a-b705-74a5b5bf57e7",
              "widget_type": "Synapse.DataFrame"
            },
            "text/plain": "SynapseWidget(Synapse.DataFrame, 4ce5132d-e578-458a-b705-74a5b5bf57e7)"
          },
          "metadata": {}
        },
        {
          "output_type": "execute_result",
          "execution_count": 2,
          "data": {},
          "metadata": {}
        }
      ],
      "execution_count": 2,
      "metadata": {
        "collapsed": false
      }
    },
    {
      "cell_type": "code",
      "source": [
        "# 2. Create Dataframe from Storage Account \r\n",
        "\r\n",
        "#%%pyspark\r\n",
        "dfcsv = spark.read.csv('abfss://onpremcsv@testsynapserbrstor.dfs.core.windows.net/card1.txt', header='true')\r\n",
        "display(dfcsv.limit(10))"
      ],
      "outputs": [
        {
          "output_type": "display_data",
          "data": {
            "application/vnd.livy.statement-meta+json": {
              "spark_pool": "amlsparklibv4",
              "session_id": 17,
              "statement_id": 3,
              "state": "finished",
              "livy_statement_state": "available",
              "queued_time": "2021-06-30T18:26:15.1693647Z",
              "session_start_time": null,
              "execution_start_time": "2021-06-30T18:26:15.2681009Z",
              "execution_finish_time": "2021-06-30T18:26:21.4652913Z"
            },
            "text/plain": "StatementMeta(amlsparklibv4, 17, 3, Finished, Available)"
          },
          "metadata": {}
        },
        {
          "output_type": "display_data",
          "data": {
            "application/vnd.synapse.widget-view+json": {
              "widget_id": "055ea22c-86b5-469b-a0ca-d1b88bb936f7",
              "widget_type": "Synapse.DataFrame"
            },
            "text/plain": "SynapseWidget(Synapse.DataFrame, 055ea22c-86b5-469b-a0ca-d1b88bb936f7)"
          },
          "metadata": {}
        },
        {
          "output_type": "execute_result",
          "execution_count": 3,
          "data": {},
          "metadata": {}
        }
      ],
      "execution_count": 3,
      "metadata": {
        "jupyter": {
          "source_hidden": false,
          "outputs_hidden": false
        },
        "nteract": {
          "transient": {
            "deleting": false
          }
        },
        "microsoft": {},
        "collapsed": false
      }
    },
    {
      "cell_type": "code",
      "source": [
        "# 3. Create join\r\n",
        "\r\n",
        "inner_join = dfcsv.join(dfcosmosdb, dfcsv.cardid == dfcosmosdb.CartID)\r\n",
        "display(inner_join)"
      ],
      "outputs": [
        {
          "output_type": "display_data",
          "data": {
            "application/vnd.livy.statement-meta+json": {
              "spark_pool": "amlsparklibv4",
              "session_id": 17,
              "statement_id": 4,
              "state": "finished",
              "livy_statement_state": "available",
              "queued_time": "2021-06-30T18:26:41.6338709Z",
              "session_start_time": null,
              "execution_start_time": "2021-06-30T18:26:41.7461656Z",
              "execution_finish_time": "2021-06-30T18:26:43.8116801Z"
            },
            "text/plain": "StatementMeta(amlsparklibv4, 17, 4, Finished, Available)"
          },
          "metadata": {}
        },
        {
          "output_type": "display_data",
          "data": {
            "application/vnd.synapse.widget-view+json": {
              "widget_id": "23ae99dd-7b14-4a3b-8a66-6abe71c2da73",
              "widget_type": "Synapse.DataFrame"
            },
            "text/plain": "SynapseWidget(Synapse.DataFrame, 23ae99dd-7b14-4a3b-8a66-6abe71c2da73)"
          },
          "metadata": {}
        },
        {
          "output_type": "execute_result",
          "execution_count": 4,
          "data": {},
          "metadata": {}
        }
      ],
      "execution_count": 4,
      "metadata": {
        "jupyter": {
          "source_hidden": false,
          "outputs_hidden": false
        },
        "nteract": {
          "transient": {
            "deleting": false
          }
        },
        "collapsed": false
      }
    },
    {
      "cell_type": "code",
      "source": [
        "# 4. Create Python list from Spark Dataframe\r\n",
        "\r\n",
        "update_list = inner_join.select(\"cardid\", \"name\", \"id\", \"_etag\").toPandas().to_dict('records')\r\n",
        "print(update_list)"
      ],
      "outputs": [
        {
          "output_type": "display_data",
          "data": {
            "application/vnd.livy.statement-meta+json": {
              "spark_pool": "amlsparklibv4",
              "session_id": 17,
              "statement_id": 5,
              "state": "finished",
              "livy_statement_state": "available",
              "queued_time": "2021-06-30T18:27:13.0871437Z",
              "session_start_time": null,
              "execution_start_time": "2021-06-30T18:27:13.2029148Z",
              "execution_finish_time": "2021-06-30T18:27:15.2665233Z"
            },
            "text/plain": "StatementMeta(amlsparklibv4, 17, 5, Finished, Available)"
          },
          "metadata": {}
        },
        {
          "output_type": "stream",
          "name": "stdout",
          "text": [
            "[{'cardid': '5481', 'name': 'Rene', 'id': 'e5c05cb8-e962-4a18-bd21-e5ef659c9732', '_etag': '\"0000eb78-0000-0c00-0000-60dc4e040000\"'}, {'cardid': '5481', 'name': 'Rene', 'id': '817b9d81-7ba5-4f49-ad1b-f8c7477a47e8', '_etag': '\"0000ec78-0000-0c00-0000-60dc4e040000\"'}]"
          ]
        }
      ],
      "execution_count": 5,
      "metadata": {
        "jupyter": {
          "source_hidden": false,
          "outputs_hidden": false
        },
        "nteract": {
          "transient": {
            "deleting": false
          }
        },
        "collapsed": true
      }
    },
    {
      "cell_type": "code",
      "source": [
        "# 5. Write data from cards.txt to Cosmos DB. \r\n",
        "#\r\n",
        "# Notice that upsert will only succeed if etag was not changed using match_condition=MatchConditions.IfNotModified\r\n",
        "# This will happen if this cell is executed twice or more (without fetching the latest etag)\r\n",
        "#\r\n",
        "# See also https://azuresdkdocs.blob.core.windows.net/$web/python/azure-cosmos/4.0.0b5/azure.cosmos.html\r\n",
        "#\r\n",
        "from azure.cosmos import exceptions, CosmosClient, PartitionKey\r\n",
        "endpoint = \"https://<<your url>>.documents.azure.com:443/\"\r\n",
        "key = '<<your key>>'\r\n",
        "database_name ='RetailDemo'\r\n",
        "container_name = 'WebsiteData3'\r\n",
        "\r\n",
        "client = CosmosClient(endpoint, key)\r\n",
        "database = client.get_database_client(database_name)\r\n",
        "\r\n",
        "database = client.get_database_client(database_name)\r\n",
        "container = database.get_container_client(container_name)\r\n",
        "\r\n",
        "# Enumerate the returned items\r\n",
        "import json\r\n",
        "from azure.core import MatchConditions\r\n",
        "\r\n",
        "#response = container.delete_item(\"5481\", partition_key=\"5481\")\r\n",
        "\r\n",
        "for update_item in update_list:\r\n",
        "    for item in container.query_items(\r\n",
        "        query='SELECT * FROM WebsiteData3 c where c.CartID = ' + update_item['cardid'] + ' AND c.id = \"' + update_item['id'] + '\"',\r\n",
        "        enable_cross_partition_query=True):\r\n",
        "        print(json.dumps(item, indent=True))\r\n",
        "        #print(update_item[\"_etag\"])\r\n",
        "        #print (item[\"_etag\"])\r\n",
        "        item['UserName'] = update_item['name'] + \"_updated2\"\r\n",
        "        response = container.upsert_item(body=item, etag= update_item['_etag'], match_condition=MatchConditions.IfNotModified)\r\n",
        "\r\n",
        "        #print(json.dumps(item, indent=True))"
      ],
      "outputs": [
        {
          "output_type": "display_data",
          "data": {
            "application/vnd.livy.statement-meta+json": {
              "spark_pool": "amlsparklibv4",
              "session_id": 17,
              "statement_id": 6,
              "state": "finished",
              "livy_statement_state": "available",
              "queued_time": "2021-06-30T18:27:48.0087154Z",
              "session_start_time": null,
              "execution_start_time": "2021-06-30T18:27:48.1256244Z",
              "execution_finish_time": "2021-06-30T18:27:50.1742956Z"
            },
            "text/plain": "StatementMeta(amlsparklibv4, 17, 6, Finished, Available)"
          },
          "metadata": {}
        },
        {
          "output_type": "stream",
          "name": "stdout",
          "text": [
            "{\n",
            " \"CartID\": 5481,\n",
            " \"Action\": \"Added\",\n",
            " \"Item\": \" Flip Flop Shoes\",\n",
            " \"Price\": 14,\n",
            " \"UserName\": \"Rene_updated\",\n",
            " \"Country\": \"Luxembourg\",\n",
            " \"EventDate\": \"2010-10-13T00:00:00\",\n",
            " \"Year\": 1,\n",
            " \"Latitude\": -83.5582,\n",
            " \"Longitude\": 154.5919,\n",
            " \"Address\": \"72471 Dee Rue, Lake Jacyntheview, Luxembourg\",\n",
            " \"id\": \"e5c05cb8-e962-4a18-bd21-e5ef659c9732\",\n",
            " \"_rid\": \"4MN6AJ3KlgQJAAAAAAAAAA==\",\n",
            " \"_self\": \"dbs/4MN6AA==/colls/4MN6AJ3KlgQ=/docs/4MN6AJ3KlgQJAAAAAAAAAA==/\",\n",
            " \"_etag\": \"\\\"0000eb78-0000-0c00-0000-60dc4e040000\\\"\",\n",
            " \"_attachments\": \"attachments/\",\n",
            " \"_ts\": 1625050628\n",
            "}\n",
            "{\n",
            " \"CartID\": 5481,\n",
            " \"Action\": \"Viewed\",\n",
            " \"Item\": \" Flip Flop Shoes\",\n",
            " \"Price\": 14,\n",
            " \"UserName\": \"Rene_updated\",\n",
            " \"Country\": \"Luxembourg\",\n",
            " \"EventDate\": \"0001-01-01T00:00:00\",\n",
            " \"Year\": 1,\n",
            " \"Latitude\": -83.5582,\n",
            " \"Longitude\": 154.5919,\n",
            " \"Address\": \"72471 Dee Rue, Lake Jacyntheview, Luxembourg\",\n",
            " \"id\": \"817b9d81-7ba5-4f49-ad1b-f8c7477a47e8\",\n",
            " \"_rid\": \"4MN6AJ3KlgQKAAAAAAAAAA==\",\n",
            " \"_self\": \"dbs/4MN6AA==/colls/4MN6AJ3KlgQ=/docs/4MN6AJ3KlgQKAAAAAAAAAA==/\",\n",
            " \"_etag\": \"\\\"0000ec78-0000-0c00-0000-60dc4e040000\\\"\",\n",
            " \"_attachments\": \"attachments/\",\n",
            " \"_ts\": 1625050628\n",
            "}"
          ]
        }
      ],
      "execution_count": 6,
      "metadata": {
        "jupyter": {
          "source_hidden": false,
          "outputs_hidden": false
        },
        "nteract": {
          "transient": {
            "deleting": false
          }
        },
        "collapsed": true
      }
    },
    {
      "cell_type": "code",
      "source": [],
      "outputs": [],
      "execution_count": null,
      "metadata": {
        "jupyter": {
          "source_hidden": false,
          "outputs_hidden": false
        },
        "nteract": {
          "transient": {
            "deleting": false
          }
        },
        "collapsed": true
      }
    }
  ],
  "metadata": {
    "kernelspec": {
      "name": "synapse_pyspark",
      "language": "Python",
      "display_name": "Synapse PySpark"
    },
    "language_info": {
      "name": "python"
    },
    "kernel_info": {
      "name": "synapse_pyspark"
    },
    "save_output": true,
    "synapse_widget": {
      "version": "0.1",
      "state": {
        "4ce5132d-e578-458a-b705-74a5b5bf57e7": {
          "type": "Synapse.DataFrame",
          "sync_state": {
            "table": {
              "rows": [
                {
                  "UserName": "Emery_Casper19",
                  "Latitude": 3.0199,
                  "Country": "Czech Republic",
                  "Longitude": 96.8163,
                  "Address": "310 Abby Ports, Stammville, Czech Republic",
                  "Price": 84.99,
                  "Year": 0,
                  "id": "55c3b13a-25c2-44c4-bbb6-cc6cbbfa7b55",
                  "CartID": 6587,
                  "EventDate": "0001-01-01T00:00:00",
                  "_etag": "\"00001301-0000-0c00-0000-60d33ccc0000\"",
                  "_rid": "4MN6AJ3KlgQCAAAAAAAAAA==",
                  "Item": "White Dress",
                  "Action": "Viewed",
                  "_ts": 1624456396
                },
                {
                  "UserName": "Dixie.Orn",
                  "Latitude": -39.539,
                  "Country": "Pitcairn Islands",
                  "Longitude": -97.5706,
                  "Address": "8205 Patsy Roads, South Aaronstad, Pitcairn Islands",
                  "Price": 105,
                  "Year": 2010,
                  "id": "e7500368-0e3c-4ca3-9ec3-5200d8335c7c",
                  "CartID": 1987,
                  "EventDate": "2010-03-21T00:00:00",
                  "_etag": "\"00001401-0000-0c00-0000-60d33ccc0000\"",
                  "_rid": "4MN6AJ3KlgQDAAAAAAAAAA==",
                  "Item": "Puffy Jacket",
                  "Action": "Viewed",
                  "_ts": 1624456396
                },
                {
                  "UserName": "Theodora9",
                  "Latitude": -57.6164,
                  "Country": "Nepal",
                  "Longitude": -20.2609,
                  "Address": "90488 Ledner Dam, Ozellaview, Nepal",
                  "Price": 40,
                  "Year": 2015,
                  "id": "7d866e7c-2c00-43da-844d-101bdc08f4ad",
                  "CartID": 7467,
                  "EventDate": "2015-04-07T00:00:00",
                  "_etag": "\"00001501-0000-0c00-0000-60d33ccc0000\"",
                  "_rid": "4MN6AJ3KlgQEAAAAAAAAAA==",
                  "Item": "Pant",
                  "Action": "Added",
                  "_ts": 1624456396
                },
                {
                  "UserName": "Theodora9",
                  "Latitude": -57.6164,
                  "Country": "Nepal",
                  "Longitude": -20.2609,
                  "Address": "90488 Ledner Dam, Ozellaview, Nepal",
                  "Price": 40,
                  "Year": 0,
                  "id": "cdf095df-93fc-4dc8-b8d9-278566b94ccc",
                  "CartID": 7467,
                  "EventDate": "0001-01-01T00:00:00",
                  "_etag": "\"00001601-0000-0c00-0000-60d33ccc0000\"",
                  "_rid": "4MN6AJ3KlgQFAAAAAAAAAA==",
                  "Item": "Pant",
                  "Action": "Viewed",
                  "_ts": 1624456396
                },
                {
                  "UserName": "Avery84",
                  "Latitude": -24.7792,
                  "Country": "Venezuela",
                  "Longitude": -88.4474,
                  "Address": "972 Stark Valley, Port Bradburgh, Venezuela",
                  "Price": 70,
                  "Year": 2010,
                  "id": "0ae6c7ca-406b-4d70-b24e-b307cfb43c74",
                  "CartID": 7623,
                  "EventDate": "2010-08-03T00:00:00",
                  "_etag": "\"00001701-0000-0c00-0000-60d33ccc0000\"",
                  "_rid": "4MN6AJ3KlgQGAAAAAAAAAA==",
                  "Item": "Athletic Shoes",
                  "Action": "Viewed",
                  "_ts": 1624456396
                },
                {
                  "UserName": "Casimer_Von25",
                  "Latitude": 74.4907,
                  "Country": "Iceland",
                  "Longitude": 128.5946,
                  "Address": "27981 Victor Plaza, Beckertown, Iceland",
                  "Price": 99.99,
                  "Year": 2018,
                  "id": "6c76bf2d-28a8-4c19-8c4a-4f2597309162",
                  "CartID": 6080,
                  "EventDate": "2018-05-18T00:00:00",
                  "_etag": "\"00001801-0000-0c00-0000-60d33ccc0000\"",
                  "_rid": "4MN6AJ3KlgQHAAAAAAAAAA==",
                  "Item": "Puffy Jacket",
                  "Action": "Added",
                  "_ts": 1624456396
                },
                {
                  "UserName": "Casimer_Von25",
                  "Latitude": 74.4907,
                  "Country": "Iceland",
                  "Longitude": 128.5946,
                  "Address": "27981 Victor Plaza, Beckertown, Iceland",
                  "Price": 99.99,
                  "Year": 0,
                  "id": "872022ff-f4ec-48d3-9b4a-97a9df6cab84",
                  "CartID": 6080,
                  "EventDate": "0001-01-01T00:00:00",
                  "_etag": "\"00001901-0000-0c00-0000-60d33ccc0000\"",
                  "_rid": "4MN6AJ3KlgQIAAAAAAAAAA==",
                  "Item": "Puffy Jacket",
                  "Action": "Viewed",
                  "_ts": 1624456396
                },
                {
                  "UserName": "Leonel.Nader2",
                  "Latitude": 17.2171,
                  "Country": "Estonia",
                  "Longitude": -58.6879,
                  "Address": "1119 Sipes Plain, Mitchellchester, Estonia",
                  "Price": 92,
                  "Year": 2016,
                  "id": "73f57a13-f0e0-472a-8567-55df1ce9251e",
                  "CartID": 1123,
                  "EventDate": "2016-09-13T00:00:00",
                  "_etag": "\"00001c01-0000-0c00-0000-60d33ccc0000\"",
                  "_rid": "4MN6AJ3KlgQLAAAAAAAAAA==",
                  "Item": "Suit Jacket",
                  "Action": "Purchased",
                  "_ts": 1624456396
                },
                {
                  "UserName": "Leonel.Nader2",
                  "Latitude": 17.2171,
                  "Country": "Estonia",
                  "Longitude": -58.6879,
                  "Address": "1119 Sipes Plain, Mitchellchester, Estonia",
                  "Price": 92,
                  "Year": 0,
                  "id": "0d97f95e-0578-4cd3-9672-b4acfd41c13e",
                  "CartID": 1123,
                  "EventDate": "0001-01-01T00:00:00",
                  "_etag": "\"00001d01-0000-0c00-0000-60d33ccc0000\"",
                  "_rid": "4MN6AJ3KlgQMAAAAAAAAAA==",
                  "Item": "Suit Jacket",
                  "Action": "Viewed",
                  "_ts": 1624456396
                },
                {
                  "UserName": "Leonel.Nader2",
                  "Latitude": 17.2171,
                  "Country": "Estonia",
                  "Longitude": -58.6879,
                  "Address": "1119 Sipes Plain, Mitchellchester, Estonia",
                  "Price": 92,
                  "Year": 0,
                  "id": "c9d9e60c-930d-4d70-a28b-413c3951836a",
                  "CartID": 1123,
                  "EventDate": "0001-01-01T00:00:00",
                  "_etag": "\"00001e01-0000-0c00-0000-60d33ccc0000\"",
                  "_rid": "4MN6AJ3KlgQNAAAAAAAAAA==",
                  "Item": "Suit Jacket",
                  "Action": "Added",
                  "_ts": 1624456396
                }
              ],
              "schema": {
                "_rid": "string",
                "_ts": "bigint",
                "CartID": "bigint",
                "Action": "string",
                "Item": "string",
                "Price": "double",
                "UserName": "string",
                "Country": "string",
                "EventDate": "string",
                "Year": "bigint",
                "Latitude": "double",
                "Longitude": "double",
                "Address": "string",
                "id": "string",
                "_etag": "string"
              }
            },
            "isSummary": false,
            "language": "scala"
          },
          "persist_state": {
            "view": {
              "type": "details",
              "tableOptions": {},
              "chartOptions": {
                "chartType": "bar",
                "aggregationType": "sum",
                "categoryFieldKeys": [
                  "_rid"
                ],
                "seriesFieldKeys": [
                  "_ts"
                ],
                "isStacked": false
              }
            }
          }
        },
        "055ea22c-86b5-469b-a0ca-d1b88bb936f7": {
          "type": "Synapse.DataFrame",
          "sync_state": {
            "table": {
              "rows": [
                {
                  "cardid": "5481",
                  "name": "Rene"
                },
                {
                  "cardid": "2",
                  "name": "Marlous"
                }
              ],
              "schema": {
                "cardid": "string",
                "name": "string"
              }
            },
            "isSummary": false,
            "language": "scala"
          },
          "persist_state": {
            "view": {
              "type": "details",
              "tableOptions": {},
              "chartOptions": {
                "chartType": "bar",
                "aggregationType": "count",
                "categoryFieldKeys": [
                  "cardid"
                ],
                "seriesFieldKeys": [
                  "cardid"
                ],
                "isStacked": false
              }
            }
          }
        },
        "23ae99dd-7b14-4a3b-8a66-6abe71c2da73": {
          "type": "Synapse.DataFrame",
          "sync_state": {
            "table": {
              "rows": [
                {
                  "name": "Rene",
                  "UserName": "Rene_updated",
                  "Latitude": -83.5582,
                  "Country": "Luxembourg",
                  "Longitude": 154.5919,
                  "Address": "72471 Dee Rue, Lake Jacyntheview, Luxembourg",
                  "Price": 14,
                  "Year": 1,
                  "id": "e5c05cb8-e962-4a18-bd21-e5ef659c9732",
                  "CartID": 5481,
                  "EventDate": "2010-10-13T00:00:00",
                  "_etag": "\"0000eb78-0000-0c00-0000-60dc4e040000\"",
                  "_rid": "4MN6AJ3KlgQJAAAAAAAAAA==",
                  "Item": " Flip Flop Shoes",
                  "cardid": "5481",
                  "Action": "Added",
                  "_ts": 1625050628
                },
                {
                  "name": "Rene",
                  "UserName": "Rene_updated",
                  "Latitude": -83.5582,
                  "Country": "Luxembourg",
                  "Longitude": 154.5919,
                  "Address": "72471 Dee Rue, Lake Jacyntheview, Luxembourg",
                  "Price": 14,
                  "Year": 1,
                  "id": "817b9d81-7ba5-4f49-ad1b-f8c7477a47e8",
                  "CartID": 5481,
                  "EventDate": "0001-01-01T00:00:00",
                  "_etag": "\"0000ec78-0000-0c00-0000-60dc4e040000\"",
                  "_rid": "4MN6AJ3KlgQKAAAAAAAAAA==",
                  "Item": " Flip Flop Shoes",
                  "cardid": "5481",
                  "Action": "Viewed",
                  "_ts": 1625050628
                }
              ],
              "schema": {
                "cardid": "string",
                "name": "string",
                "_rid": "string",
                "_ts": "bigint",
                "CartID": "bigint",
                "Action": "string",
                "Item": "string",
                "Price": "double",
                "UserName": "string",
                "Country": "string",
                "EventDate": "string",
                "Year": "bigint",
                "Latitude": "double",
                "Longitude": "double",
                "Address": "string",
                "id": "string",
                "_etag": "string"
              }
            },
            "isSummary": false,
            "language": "scala"
          },
          "persist_state": {
            "view": {
              "type": "details",
              "tableOptions": {},
              "chartOptions": {
                "chartType": "bar",
                "aggregationType": "sum",
                "categoryFieldKeys": [
                  "cardid"
                ],
                "seriesFieldKeys": [
                  "_ts"
                ],
                "isStacked": false
              }
            }
          }
        }
      }
    }
  },
  "nbformat": 4,
  "nbformat_minor": 2
}