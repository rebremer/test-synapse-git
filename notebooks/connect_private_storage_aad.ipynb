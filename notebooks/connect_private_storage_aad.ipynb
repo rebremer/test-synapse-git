{
 "metadata": {
  "language_info": {
   "codemirror_mode": {
    "name": "ipython",
    "version": 3
   },
   "file_extension": ".py",
   "mimetype": "text/x-python",
   "name": "python",
   "nbconvert_exporter": "python",
   "pygments_lexer": "ipython3",
   "version": 3
  },
  "orig_nbformat": 2
 },
 "nbformat": 4,
 "nbformat_minor": 2,
 "cells": [
  {
   "cell_type": "code",
   "execution_count": null,
   "metadata": {},
   "outputs": [],
   "source": [
    "par_storage = \"<<your storage account name>>\"\n",
    "par_container =\"<<your container name>>\""
   ]
  },
  {
   "cell_type": "code",
   "execution_count": null,
   "metadata": {},
   "outputs": [],
   "source": [
    "# check whether storage accounts dns resolves to private IP\n",
    "import socket\n",
    "\n",
    "addr = socket.gethostbyname(par_storage + '.blob.core.windows.net')\n",
    "\n",
    "print(addr)"
   ]
  },
  {
   "cell_type": "code",
   "execution_count": null,
   "metadata": {},
   "outputs": [],
   "source": [
    "# Use mssparkutils.credentials Azure AD bearer token to connect to storage with AccessToken wrapper\n",
    "import os\n",
    "from azure.core.credentials import AccessToken\n",
    "from azure.storage.blob import BlobServiceClient\n",
    "from datetime import datetime\n",
    "#\n",
    "class CustomTokenCredential(object):\n",
    "    def get_token(*scopes, **kwargs):\n",
    "       access_token = mssparkutils.credentials.getToken(\"storage\")\n",
    "       expires_on = str(1000)\n",
    "       return AccessToken(access_token, expires_on)\n",
    "#\n",
    "# create blob service client and container client\n",
    "credential = CustomTokenCredential()\n",
    "storage_account_source_url = \"https://\" + par_storage + \".blob.core.windows.net\"\n",
    "\n",
    "client_source = BlobServiceClient(account_url=storage_account_source_url, credential=credential)\n",
    "container_source = client_source.get_container_client(par_container)\n",
    "\n",
    "blob_list = container_source.list_blobs(include=['snapshots'])\n",
    "for blob in blob_list:\n",
    "    print(blob.name + \", \" + str(blob.size))"
   ]
  }
 ]
}